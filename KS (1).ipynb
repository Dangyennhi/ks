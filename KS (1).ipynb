{
  "nbformat": 4,
  "nbformat_minor": 0,
  "metadata": {
    "colab": {
      "provenance": []
    },
    "kernelspec": {
      "name": "python3",
      "display_name": "Python 3"
    },
    "language_info": {
      "name": "python"
    }
  },
  "cells": [
    {
      "cell_type": "code",
      "source": [
        "import gradio as gr\n",
        "import hashlib\n",
        "\n",
        "# ===== HÀM HASH DỮ LIỆU =====\n",
        "def hash_data(data, n):\n",
        "    return int.from_bytes(hashlib.sha256(data).digest(), 'big') % n\n",
        "\n",
        "def sign_file(file, d_str, n_str):\n",
        "    if file is None or not d_str or not n_str:\n",
        "        return \"❗Thiếu file hoặc khóa riêng.\", None, None\n",
        "    try:\n",
        "        d = int(d_str)\n",
        "        n = int(n_str)\n",
        "        with open(file.name, \"rb\") as f:\n",
        "            data = f.read()\n",
        "        h = hash_data(data, n)\n",
        "        sig = pow(h, d, n)\n",
        "        return \"✅ Đã ký số thành công!\", str(sig), f\"17,{n}\"\n",
        "    except Exception as e:\n",
        "        return f\"❗Lỗi: {str(e)}\", None, None\n",
        "\n",
        "def verify_signature(file, signature, e_str, n_str):\n",
        "    if file is None or not signature or not e_str or not n_str:\n",
        "        return \"❗Thiếu file, chữ ký hoặc khóa công khai.\"\n",
        "    try:\n",
        "        sig = int(signature)\n",
        "        e = int(e_str)\n",
        "        n = int(n_str)\n",
        "        with open(file.name, \"rb\") as f:\n",
        "            data = f.read()\n",
        "        h_real = hash_data(data, n)\n",
        "        h_sig = pow(sig, e, n)\n",
        "        return \"✅ Chữ ký hợp lệ.\" if h_real == h_sig else \"❌ Chữ ký không hợp lệ!\"\n",
        "    except:\n",
        "        return \"❗Lỗi định dạng chữ ký hoặc khóa.\"\n",
        "\n",
        "# ===== GIAO DIỆN GRADIO =====\n",
        "with gr.Blocks(css=\"\"\"\n",
        "body {\n",
        "    background: linear-gradient(to bottom right, #ffe4ec, #d0f0f8);\n",
        "}\n",
        ".gr-block {\n",
        "    background-color: rgba(255, 255, 255, 0.6) !important;\n",
        "    border-radius: 20px;\n",
        "    padding: 20px;\n",
        "    margin: 20px;\n",
        "    box-shadow: 0 4px 20px rgba(0, 0, 0, 0.1);\n",
        "}\n",
        ".gr-button {\n",
        "    background-color: #f78fb3 !important;\n",
        "    color: white !important;\n",
        "    font-weight: bold;\n",
        "    border-radius: 8px;\n",
        "}\n",
        ".gr-textbox textarea {\n",
        "    font-family: monospace;\n",
        "    font-size: 14px;\n",
        "    background-color: #fff0f5 !important;\n",
        "}\n",
        ".result-box {\n",
        "    background-color: #e0f7fa;\n",
        "    padding: 12px;\n",
        "    border-radius: 10px;\n",
        "    border: 1px solid #a6dcef;\n",
        "    font-size: 16px;\n",
        "}\n",
        "\"\"\") as demo:\n",
        "\n",
        "    gr.Markdown(\"<h2 style='text-align:center; color:#cc6699;'>💌 Ứng dụng Ký Số & Xác Thực RSA</h2>\")\n",
        "\n",
        "    with gr.Tab(\"🔐 Ký số\"):\n",
        "        file_input = gr.File(label=\"📂 Chọn file để ký\")\n",
        "        d_input = gr.Textbox(label=\"🔐 Khóa riêng `d` (để ký)\", placeholder=\"Nhập một số\")\n",
        "        n_input = gr.Textbox(label=\"📱 Modulo `n` (của khóa riêng)\", placeholder=\"Nhập một số \")\n",
        "        sign_btn = gr.Button(\"🔏 Ký số\")\n",
        "\n",
        "        sig_output = gr.Textbox(label=\"✍️ Chữ ký số\")\n",
        "        pubkey_output = gr.Textbox(label=\"🔑 Khóa công khai (chia sẻ cho người nhận)\")\n",
        "        sign_status = gr.Textbox(label=\"📢 Trạng thái\", elem_classes=[\"result-box\"])\n",
        "\n",
        "        sign_btn.click(sign_file, inputs=[file_input, d_input, n_input],\n",
        "                       outputs=[sign_status, sig_output, pubkey_output])\n",
        "\n",
        "    with gr.Tab(\"🛡️ Xác thực\"):\n",
        "        file_verify = gr.File(label=\"📂 Chọn file cần xác thực\")\n",
        "        sig_input = gr.Textbox(label=\"✍️ Nhập chữ ký số\")\n",
        "        e_input = gr.Textbox(label=\"📘 Khóa công khai `e`\", placeholder=\"Nhập khóa công khai\")\n",
        "        n2_input = gr.Textbox(label=\"📘 Modulo `n`\", placeholder=\"Nhập số Modulo\")\n",
        "\n",
        "        verify_btn = gr.Button(\"✅ Xác thực\")\n",
        "        verify_output = gr.Textbox(label=\"📢 Kết quả xác thực\", elem_classes=[\"result-box\"])\n",
        "\n",
        "        verify_btn.click(verify_signature,\n",
        "                         inputs=[file_verify, sig_input, e_input, n2_input],\n",
        "                         outputs=verify_output)\n",
        "\n",
        "demo.launch()\n"
      ],
      "metadata": {
        "colab": {
          "base_uri": "https://localhost:8080/",
          "height": 645
        },
        "id": "mH_4hsNlDAi0",
        "outputId": "04a788c9-4e02-4643-8ad3-8139c906c2e7"
      },
      "execution_count": 3,
      "outputs": [
        {
          "output_type": "stream",
          "name": "stdout",
          "text": [
            "It looks like you are running Gradio on a hosted a Jupyter notebook. For the Gradio app to work, sharing must be enabled. Automatically setting `share=True` (you can turn this off by setting `share=False` in `launch()` explicitly).\n",
            "\n",
            "Colab notebook detected. To show errors in colab notebook, set debug=True in launch()\n",
            "* Running on public URL: https://a26e4df2b203f57725.gradio.live\n",
            "\n",
            "This share link expires in 1 week. For free permanent hosting and GPU upgrades, run `gradio deploy` from the terminal in the working directory to deploy to Hugging Face Spaces (https://huggingface.co/spaces)\n"
          ]
        },
        {
          "output_type": "display_data",
          "data": {
            "text/plain": [
              "<IPython.core.display.HTML object>"
            ],
            "text/html": [
              "<div><iframe src=\"https://a26e4df2b203f57725.gradio.live\" width=\"100%\" height=\"500\" allow=\"autoplay; camera; microphone; clipboard-read; clipboard-write;\" frameborder=\"0\" allowfullscreen></iframe></div>"
            ]
          },
          "metadata": {}
        },
        {
          "output_type": "execute_result",
          "data": {
            "text/plain": []
          },
          "metadata": {},
          "execution_count": 3
        }
      ]
    }
  ]
}